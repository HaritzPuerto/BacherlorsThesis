{
 "cells": [
  {
   "cell_type": "code",
   "execution_count": 1,
   "metadata": {
    "collapsed": true
   },
   "outputs": [],
   "source": [
    "import logging, gensim, bz2\n",
    "from gensim import corpora, models, similarities\n",
    "from collections import defaultdict\n",
    "import nltk\n",
    "import pyLDAvis.gensim\n",
    "from nltk.tokenize import RegexpTokenizer\n",
    "from nltk.stem.porter import PorterStemmer\n",
    "from collections import defaultdict"
   ]
  },
  {
   "cell_type": "markdown",
   "metadata": {},
   "source": [
    "# Let's retrieve the documents. A document is a set of tweets of a user\n",
    "\n",
    "I have a lot of tweets of Hillary Clinton in several files. Those files are the documents we'll use to train our LDA model"
   ]
  },
  {
   "cell_type": "code",
   "execution_count": 2,
   "metadata": {
    "collapsed": false
   },
   "outputs": [],
   "source": [
    "import os\n",
    "all_docs = []\n",
    "clinton_docs = []\n",
    "for file_name in os.listdir(\"/home/vagrant/shared/HillaryTweets\"):\n",
    "    file = open(\"/home/vagrant/shared/HillaryTweets/\" + file_name)\n",
    "    doc = file.read()\n",
    "    clinton_docs.append(doc)\n",
    "    all_docs.append(doc)"
   ]
  },
  {
   "cell_type": "code",
   "execution_count": 3,
   "metadata": {
    "collapsed": false
   },
   "outputs": [],
   "source": [
    "import os\n",
    "trump_docs = []\n",
    "for file_name in os.listdir(\"/home/vagrant/shared/TrumpTweets\"):\n",
    "    file = open(\"/home/vagrant/shared/TrumpTweets/\" + file_name)\n",
    "    doc = file.read()\n",
    "    trump_docs.append(doc)\n",
    "    all_docs.append(doc)"
   ]
  },
  {
   "cell_type": "markdown",
   "metadata": {},
   "source": [
    "# Preprocessing\n",
    "We'll remove stopwords, words that appears only once, unigrams and bigrams.\n",
    "\n",
    "## Stemming\n",
    "“stemming,” “stemmer,” “stemmed,” all have similar meanings; stemming reduces those terms to “stem.” This is important for topic modeling, which would otherwise view those terms as separate entities and reduce their importance in the model.\n",
    "\n",
    "Stemming is flexible and some methods are more aggressive. The Porter stemming algorithm is the most widely used method.\n",
    "https://rstudio-pubs-static.s3.amazonaws.com/79360_850b2a69980c4488b1db95987a24867a.html"
   ]
  },
  {
   "cell_type": "code",
   "execution_count": null,
   "metadata": {
    "collapsed": false
   },
   "outputs": [],
   "source": []
  },
  {
   "cell_type": "code",
   "execution_count": 4,
   "metadata": {
    "collapsed": false
   },
   "outputs": [
    {
     "name": "stdout",
     "output_type": "stream",
     "text": [
      "hillary\n",
      "168\n",
      "trump\n",
      "140\n",
      "women\n",
      "81\n",
      "hillary\n",
      "87\n",
      "trump\n",
      "85\n",
      "trump2016\n",
      "60\n"
     ]
    }
   ],
   "source": [
    "clinton_texts = []\n",
    "trump_texts = []\n",
    "all_texts = []\n",
    "tokenizer = RegexpTokenizer(r'\\w+')\n",
    "stoplist_tw=['amp','get','got','hey','hmm','hoo','hop','iep','let','ooo','par',\n",
    "            'pdt','pln','pst','wha','yep','yer','aest','didn','nzdt','via',\n",
    "            'one','com','new','like','great','make','top','awesome','best',\n",
    "            'good','wow','yes','say','yay','would','thanks','thank','going',\n",
    "            'new','use','should','could','best','really','see','want','nice',\n",
    "            'while','know']\n",
    "\n",
    "unigrams = [ w for doc in all_docs for w in doc if len(w)==1]\n",
    "bigrams  = [ w for doc in all_docs for w in doc if len(w)==2]\n",
    "\n",
    "en_stop  = set(nltk.corpus.stopwords.words(\"english\") + stoplist_tw\n",
    "                + unigrams + bigrams)\n",
    "p_stemmer = PorterStemmer()\n",
    "# loop through document list\n",
    "for i in clinton_docs:\n",
    "    # clean and tokenize document string\n",
    "    raw = i.lower()\n",
    "    tokens = tokenizer.tokenize(raw)\n",
    "\n",
    "    # remove stop words from tokens\n",
    "    stopped_tokens = [i for i in tokens if not i in en_stop]\n",
    "    \n",
    "    # stem tokens\n",
    "    stemmed_tokens = [i for i in stopped_tokens]\n",
    "    \n",
    "    # add tokens to list\n",
    "    clinton_texts.append(stemmed_tokens)\n",
    "    all_texts.append(stemmed_tokens)\n",
    "\n",
    "# remove words that appear only once and the most common ones ( if the word is common for many documents, it does not distinguished those and should be neglected.)\n",
    "# http://datascience.stackexchange.com/questions/5941/need-help-with-lda-for-selecting-features\n",
    "from collections import defaultdict\n",
    "frequency = defaultdict(int)\n",
    "for text in clinton_texts:\n",
    "    for token in text:\n",
    "        frequency[token] += 1\n",
    "        \n",
    "import operator\n",
    "for i in xrange(3):\n",
    "    most_common_word = max(frequency.iteritems(), key=operator.itemgetter(1))[0]\n",
    "    print most_common_word\n",
    "    print frequency[most_common_word]\n",
    "    frequency.pop(most_common_word, None)\n",
    "\n",
    "frequency.pop('hillary', None)\n",
    "frequency.pop('clinton', None)\n",
    "frequency.pop('donald', None)\n",
    "frequency.pop('trump', None)\n",
    "clinton_texts = [[token for token in text if frequency[token] > 1 ]\n",
    "          for text in clinton_texts]\n",
    "\n",
    "# loop through document list\n",
    "for i in trump_docs:\n",
    "    # clean and tokenize document string\n",
    "    raw = i.lower()\n",
    "    tokens = tokenizer.tokenize(raw)\n",
    "\n",
    "    # remove stop words from tokens\n",
    "    stopped_tokens = [i for i in tokens if not i in en_stop]\n",
    "    \n",
    "    # stem tokens\n",
    "    stemmed_tokens = [i for i in stopped_tokens]\n",
    "    \n",
    "    # add tokens to list\n",
    "    trump_texts.append(stemmed_tokens)\n",
    "    all_texts.append(stemmed_tokens)\n",
    "\n",
    "# remove words that appear only once and the most common ones ( if the word is common for many documents, it does not distinguished those and should be neglected.)\n",
    "# http://datascience.stackexchange.com/questions/5941/need-help-with-lda-for-selecting-features\n",
    "from collections import defaultdict\n",
    "frequency = defaultdict(int)\n",
    "for text in trump_texts:\n",
    "    for token in text:\n",
    "        frequency[token] += 1\n",
    "        \n",
    "import operator\n",
    "for i in xrange(3):\n",
    "    most_common_word = max(frequency.iteritems(), key=operator.itemgetter(1))[0]\n",
    "    print most_common_word\n",
    "    print frequency[most_common_word]\n",
    "    frequency.pop(most_common_word, None)\n",
    "\n",
    "frequency.pop('hillary', None)\n",
    "frequency.pop('clinton', None)\n",
    "frequency.pop('donald', None)\n",
    "frequency.pop('trump', None)\n",
    "trump_texts = [[token for token in text if frequency[token] > 1 ]\n",
    "          for text in trump_texts]"
   ]
  },
  {
   "cell_type": "code",
   "execution_count": 5,
   "metadata": {
    "collapsed": true
   },
   "outputs": [],
   "source": [
    "# turn our tokenized documents into a id <-> term dictionary\n",
    "dictionary = corpora.Dictionary(all_texts)\n",
    "    \n",
    "# convert tokenized documents into a document-term matrix\n",
    "clinton_corpus = [dictionary.doc2bow(text) for text in clinton_texts]\n",
    "trump_corpus = [dictionary.doc2bow(text) for text in trump_texts]"
   ]
  },
  {
   "cell_type": "markdown",
   "metadata": {},
   "source": [
    "# LDA Model"
   ]
  },
  {
   "cell_type": "code",
   "execution_count": 6,
   "metadata": {
    "collapsed": false
   },
   "outputs": [],
   "source": [
    "clinton_model = gensim.models.ldamodel.LdaModel(clinton_corpus, num_topics=10, id2word = dictionary, passes=20, alpha=0.0001)"
   ]
  },
  {
   "cell_type": "code",
   "execution_count": 7,
   "metadata": {
    "collapsed": false
   },
   "outputs": [],
   "source": [
    "#clinton_viz_data =  pyLDAvis.gensim.prepare(clinton_model, clinton_corpus, dictionary)\n",
    "#pyLDAvis.display(clinton_viz_data)"
   ]
  },
  {
   "cell_type": "code",
   "execution_count": 8,
   "metadata": {
    "collapsed": false
   },
   "outputs": [],
   "source": [
    "trump_model = gensim.models.ldamodel.LdaModel(trump_corpus, num_topics=10, id2word = dictionary, passes=20, alpha=0.0001)"
   ]
  },
  {
   "cell_type": "code",
   "execution_count": 9,
   "metadata": {
    "collapsed": false
   },
   "outputs": [],
   "source": [
    "#trump_viz_data =  pyLDAvis.gensim.prepare(trump_model, trump_corpus, dictionary)\n",
    "#pyLDAvis.display(trump_viz_data)"
   ]
  },
  {
   "cell_type": "code",
   "execution_count": 40,
   "metadata": {
    "collapsed": false
   },
   "outputs": [],
   "source": [
    "def compute_similarity_two_topics(list_topic1, list_topic2):\n",
    "    from collections import defaultdict\n",
    "    from math import sqrt\n",
    "    v_t0 = dict(list_topic1) #vector of the first topic\n",
    "    dic = defaultdict(list)\n",
    "    v_t1 = dict(list_topic2) #vector of the second topic\n",
    "    norm_v_t0 = 0\n",
    "    norm_v_t1 = 0\n",
    "    for key in v_t0:  #multiply components of both vectors\n",
    "        norm_v_t0 =  norm_v_t0 + (v_t0[key] *  v_t0[key]) #obtain the norm of the first vector\n",
    "        if key in v_t1:\n",
    "            dic[key] = v_t0[key] * v_t1[key]\n",
    "            print key\n",
    "    norm_v_t0 = sqrt(norm_v_t0) #last step to get the norm of the first vector\n",
    "\n",
    "    for key in v_t1: #obtain the norm of the second vector\n",
    "        norm_v_t1 =  norm_v_t1 + (v_t1[key] *  v_t1[key])\n",
    "    norm_v_t1 = sqrt(norm_v_t1)\n",
    "\n",
    "    similarity = 0\n",
    "    for key in dic:\n",
    "        print 'dic[key] = ' + str(dic[key])\n",
    "        print '(norm_v_t0 * norm_v_t1) = ' + str((norm_v_t0 * norm_v_t1))\n",
    "        similarity = similarity + dic[key]/(norm_v_t0 * norm_v_t1)\n",
    "    return similarity"
   ]
  },
  {
   "cell_type": "code",
   "execution_count": 32,
   "metadata": {
    "collapsed": true
   },
   "outputs": [],
   "source": [
    "#Uses weighted arithmetic mean.\n",
    "#alpha: weight given to similarities between topics greater than threshold\n",
    "#beta: weight given to similarities between topics lower than threshold\n",
    "def compare_models(model1, model2, threshold, alpha, beta):\n",
    "    sim = []\n",
    "    numerator = 0\n",
    "    denominator = 0\n",
    "    for i in xrange(model1.num_topics):\n",
    "        max_similarity = 0\n",
    "        equivalent_topic_in_model_b = 0\n",
    "        for j in xrange(model2.num_topics):\n",
    "            similarity = compute_similarity_two_topics(model1.get_topic_terms(i), model2.get_topic_terms(j))\n",
    "            if max_similarity < similarity:\n",
    "                max_similarity = similarity\n",
    "                equivalent_topic_in_model_b = j\n",
    "        if max_similarity >= threshold:\n",
    "            numerator = numerator + alpha * max_similarity\n",
    "            denominator = denominator + alpha\n",
    "            sim.append(max_similarity)\n",
    "            print str(i) + ' ' + str(equivalent_topic_in_model_b) + ' ' + str(max_similarity)\n",
    "            #print 'Model 1' \n",
    "            #for tup in model1.get_topic_terms(i):\n",
    "            #    print dictionary[tup[0]] + ' ' + str(tup[1])\n",
    "            #print 'Model 2' \n",
    "            #for tup in model2.get_topic_terms(j):\n",
    "            #    print dictionary[tup[0]] + ' ' + str(tup[1])\n",
    "        else:\n",
    "            numerator = numerator + beta * max_similarity\n",
    "            denominator = denominator + beta\n",
    "            \n",
    "    return numerator/denominator"
   ]
  },
  {
   "cell_type": "code",
   "execution_count": 33,
   "metadata": {
    "collapsed": false
   },
   "outputs": [
    {
     "name": "stdout",
     "output_type": "stream",
     "text": [
      "0 0 1.0\n",
      "1 1 1.0\n",
      "2 2 1.0\n",
      "3 3 1.0\n",
      "4 4 1.0\n",
      "5 5 1.0\n",
      "6 6 1.0\n",
      "7 7 1.0\n",
      "8 8 1.0\n",
      "9 9 1.0\n"
     ]
    },
    {
     "data": {
      "text/plain": [
       "1.0"
      ]
     },
     "execution_count": 33,
     "metadata": {},
     "output_type": "execute_result"
    }
   ],
   "source": [
    "compare_models(clinton_model, clinton_model, 0.2, 1, 0.5)"
   ]
  },
  {
   "cell_type": "code",
   "execution_count": null,
   "metadata": {
    "collapsed": false
   },
   "outputs": [],
   "source": []
  },
  {
   "cell_type": "code",
   "execution_count": 13,
   "metadata": {
    "collapsed": false
   },
   "outputs": [
    {
     "name": "stderr",
     "output_type": "stream",
     "text": [
      "/usr/local/lib/python2.7/dist-packages/ipykernel/pylab/config.py:66: DeprecationWarning: metadata {'config': True} was set from the constructor.  Metadata should be set using the .tag() method, e.g., Int().tag(key1='value1', key2='value2')\n",
      "  inline backend.\"\"\"\n",
      "/usr/local/lib/python2.7/dist-packages/ipykernel/pylab/config.py:71: DeprecationWarning: metadata {'config': True} was set from the constructor.  Metadata should be set using the .tag() method, e.g., Int().tag(key1='value1', key2='value2')\n",
      "  'retina', 'jpeg', 'svg', 'pdf'.\"\"\")\n",
      "/usr/local/lib/python2.7/dist-packages/ipykernel/pylab/config.py:85: DeprecationWarning: metadata {'config': True} was set from the constructor.  Metadata should be set using the .tag() method, e.g., Int().tag(key1='value1', key2='value2')\n",
      "  use `figure_formats` instead)\"\"\")\n",
      "/usr/local/lib/python2.7/dist-packages/ipykernel/pylab/config.py:95: DeprecationWarning: metadata {'config': True} was set from the constructor.  Metadata should be set using the .tag() method, e.g., Int().tag(key1='value1', key2='value2')\n",
      "  \"\"\"\n",
      "/usr/local/lib/python2.7/dist-packages/ipykernel/pylab/config.py:114: DeprecationWarning: metadata {'config': True} was set from the constructor.  Metadata should be set using the .tag() method, e.g., Int().tag(key1='value1', key2='value2')\n",
      "  \"\"\")\n",
      "/usr/local/lib/python2.7/dist-packages/ipykernel/pylab/config.py:44: DeprecationWarning: InlineBackend._config_changed is deprecated: use @observe and @unobserve instead.\n",
      "  def _config_changed(self, name, old, new):\n",
      "/usr/local/lib/python2.7/dist-packages/traitlets/traitlets.py:770: DeprecationWarning: A parent of InlineBackend._config_changed has adopted the new @observe(change) API\n",
      "  clsname, change_or_name), DeprecationWarning)\n"
     ]
    }
   ],
   "source": [
    "from wordcloud import WordCloud\n",
    "import matplotlib.pyplot as plt\n",
    "%matplotlib inline"
   ]
  },
  {
   "cell_type": "code",
   "execution_count": 34,
   "metadata": {
    "collapsed": false
   },
   "outputs": [],
   "source": [
    "#Uses weighted arithmetic mean. Show a word clound with the similar topics found\n",
    "#alpha: weight given to similarities between topics greater than threshold\n",
    "#beta: weight given to similarities between topics lower than threshold\n",
    "def compare_models_and_viz(model1, model2, threshold, alpha, beta):\n",
    "    model1_topics = []\n",
    "    for i in xrange(model1.num_topics):\n",
    "        #print i\n",
    "        words = []\n",
    "        for tup in model1.get_topic_terms(i):\n",
    "            t = ( dictionary[tup[0]],tup[1])\n",
    "            words.append(t)\n",
    "            #print dictionary[tup[0]] + ' ' + str(tup[1])\n",
    "        model1_topics.append(words)\n",
    "    \n",
    "    model2_topics = []\n",
    "    for i in xrange(model2.num_topics):\n",
    "        #print i\n",
    "        words = []\n",
    "        for tup in model2.get_topic_terms(i):\n",
    "            t = ( dictionary[tup[0]],tup[1])\n",
    "            words.append(t)\n",
    "            #print dictionary[tup[0]] + ' ' + str(tup[1])\n",
    "        model2_topics.append(words)\n",
    "    \n",
    "    \n",
    "    sim = []\n",
    "    numerator = 0\n",
    "    denominator = 0\n",
    "    for i in xrange(model1.num_topics):\n",
    "        max_similarity = 0\n",
    "        equivalent_topic_in_model_b = 0\n",
    "        for j in xrange(model2.num_topics):\n",
    "            similarity = compute_similarity_two_topics(model1.get_topic_terms(i), model2.get_topic_terms(j))\n",
    "            if max_similarity < similarity:\n",
    "                max_similarity = similarity\n",
    "                equivalent_topic_in_model_b = j\n",
    "        if max_similarity >= threshold:\n",
    "            numerator = numerator + alpha * max_similarity\n",
    "            denominator = denominator + alpha\n",
    "            sim.append(max_similarity)\n",
    "            print str(i) + ' ' + str(equivalent_topic_in_model_b) + ' ' + str(max_similarity)\n",
    "            wordcloud = WordCloud(width=800, height=600, relative_scaling=.8)\\\n",
    "                .generate_from_frequencies(model1_topics[i])\n",
    "            plt.imshow(wordcloud)\n",
    "            plt.axis(\"off\")\n",
    "            plt.show()\n",
    "            wordcloud = WordCloud(width=800, height=600, relative_scaling=.8)\\\n",
    "                .generate_from_frequencies(model2_topics[equivalent_topic_in_model_b])\n",
    "            plt.imshow(wordcloud)\n",
    "            plt.axis(\"off\")\n",
    "            plt.show()\n",
    "            #print 'Model 1' \n",
    "            #for tup in model1.get_topic_terms(i):\n",
    "            #    print dictionary[tup[0]] + ' ' + str(tup[1])\n",
    "            #print 'Model 2' \n",
    "            #for tup in model2.get_topic_terms(j):\n",
    "            #    print dictionary[tup[0]] + ' ' + str(tup[1])\n",
    "        else:\n",
    "            numerator = numerator + beta * max_similarity\n",
    "            denominator = denominator + beta\n",
    "    return numerator/denominator"
   ]
  },
  {
   "cell_type": "code",
   "execution_count": 35,
   "metadata": {
    "collapsed": false
   },
   "outputs": [
    {
     "name": "stdout",
     "output_type": "stream",
     "text": [
      "9 4 0.238554878974\n"
     ]
    },
    {
     "data": {
      "image/png": "[encoded data removed]",
      "text/plain": [
       "<matplotlib.figure.Figure at 0x7fea93c10690>"
      ]
     },
     "metadata": {},
     "output_type": "display_data"
    },
    {
     "data": {
      "image/png": "[encoded data removed]",
      "text/plain": [
       "<matplotlib.figure.Figure at 0x7feac18fcd10>"
      ]
     },
     "metadata": {},
     "output_type": "display_data"
    },
    {
     "data": {
      "text/plain": [
       "0.23855487897393687"
      ]
     },
     "execution_count": 35,
     "metadata": {},
     "output_type": "execute_result"
    }
   ],
   "source": [
    "compare_models_and_viz(clinton_model, trump_model, 0.2, 1, 0)"
   ]
  },
  {
   "cell_type": "code",
   "execution_count": 18,
   "metadata": {
    "collapsed": false
   },
   "outputs": [
    {
     "name": "stdout",
     "output_type": "stream",
     "text": [
      "0\n",
      "love 0.00847865751556\n",
      "families 0.00687294975925\n",
      "made 0.00687254421972\n",
      "back 0.00687253091768\n",
      "gets 0.00687241050129\n",
      "america 0.00687219620035\n",
      "demagogue 0.00687177935282\n",
      "york 0.00525054016572\n",
      "vote 0.00519672964509\n",
      "win 0.00519653391286\n",
      "1\n",
      "gun 0.012643450595\n",
      "families 0.0119894261172\n",
      "rights 0.00953697435187\n",
      "demdebate 0.00852987430216\n",
      "child 0.00819453767894\n",
      "every 0.00810765181291\n",
      "care 0.00761566565514\n",
      "americans 0.006853414673\n",
      "things 0.00600785847778\n",
      "us 0.00600752978719\n",
      "2\n",
      "families 0.00719071773783\n",
      "tax 0.00719064755768\n",
      "people 0.00543744952606\n",
      "demdebate 0.00543715381243\n",
      "us 0.00543698151735\n",
      "americans 0.00543683169103\n",
      "climate 0.00543662526454\n",
      "need 0.0054365538034\n",
      "election 0.00543638162623\n",
      "left 0.00543638046167\n",
      "3\n",
      "need 0.0162803078784\n",
      "today 0.0115905139708\n",
      "vote 0.00984921745263\n",
      "voting 0.00869021698228\n",
      "pay 0.00767859911568\n",
      "rt 0.00751651770215\n",
      "equal 0.00617295281975\n",
      "primary 0.00617240999331\n",
      "act 0.0061723086989\n",
      "men 0.00617165764184\n",
      "4\n",
      "qualified 0.0152377113226\n",
      "rights 0.0123393491405\n",
      "president 0.00866425629012\n",
      "state 0.00589085031296\n",
      "history 0.00515683703715\n",
      "presidential 0.00500759755237\n",
      "country 0.00399150103835\n",
      "pay 0.00399146767214\n",
      "gay 0.00399141725373\n",
      "woman 0.00399108034986\n",
      "5\n",
      "need 0.011577063767\n",
      "care 0.0100447210766\n",
      "paid 0.00852605002802\n",
      "pay 0.00788308593621\n",
      "families 0.00770644134885\n",
      "president 0.0069205537412\n",
      "family 0.00677422688533\n",
      "health 0.00644247582937\n",
      "fighting 0.00642293179174\n",
      "woman 0.00596554919022\n",
      "6\n",
      "people 0.0084032046872\n",
      "america 0.00807472668909\n",
      "said 0.00675578649122\n",
      "tax 0.00675345691545\n",
      "clean 0.00674581040347\n",
      "live 0.00627129854031\n",
      "rights 0.00529432375342\n",
      "every 0.0051321641235\n",
      "believe 0.00510809447103\n",
      "family 0.00510597465807\n",
      "7\n",
      "us 0.0141685204679\n",
      "every 0.00823667316377\n",
      "president 0.0080031202466\n",
      "people 0.00770950407481\n",
      "equalpayday 0.00743558189127\n",
      "man 0.00743475946608\n",
      "together 0.00686057954818\n",
      "millions 0.00597794909826\n",
      "threat 0.00563891873674\n",
      "candidate 0.00500499138304\n",
      "8\n",
      "pay 0.0130066965063\n",
      "leave 0.00988645515146\n",
      "paid 0.00953408155029\n",
      "every 0.00785597403857\n",
      "go 0.00783034758374\n",
      "vote 0.00720354982445\n",
      "wall 0.00674877316431\n",
      "candidate 0.00617020831692\n",
      "president 0.00603464250839\n",
      "today 0.00564290960935\n",
      "9\n",
      "president 0.0167342696437\n",
      "families 0.0115199448456\n",
      "need 0.00935789247263\n",
      "america 0.00837005375471\n",
      "millions 0.00787022289423\n",
      "rights 0.00779740650052\n",
      "time 0.00689965203874\n",
      "fight 0.00689911309566\n",
      "americans 0.00689739902594\n",
      "every 0.0067336452457\n"
     ]
    }
   ],
   "source": [
    "for i in xrange(clinton_model.num_topics):\n",
    "    print i\n",
    "    words = []\n",
    "    for tup in clinton_model.get_topic_terms(i):\n",
    "        t = ( dictionary[tup[0]],tup[1])\n",
    "        print dictionary[tup[0]] + ' ' + str(tup[1])"
   ]
  },
  {
   "cell_type": "code",
   "execution_count": 20,
   "metadata": {
    "collapsed": false
   },
   "outputs": [
    {
     "name": "stdout",
     "output_type": "stream",
     "text": [
      "0\n",
      "warren 0.0171381720563\n",
      "elizabeth 0.0171380650459\n",
      "goofy 0.017137986723\n",
      "crooked 0.0147417645978\n",
      "american 0.0130829202437\n",
      "makeamericagreatagain 0.0114864039921\n",
      "done 0.00911285830836\n",
      "native 0.00812070423095\n",
      "america 0.00777464614904\n",
      "senator 0.00702945300051\n",
      "1\n",
      "delegates 0.00949064010191\n",
      "people 0.00840787435172\n",
      "party 0.00831029134977\n",
      "campaign 0.00830896124216\n",
      "tonight 0.00799752260125\n",
      "cruz 0.00725517389321\n",
      "republican 0.00667960955145\n",
      "poll 0.0062901992281\n",
      "00 0.00611307996527\n",
      "enjoy 0.00610122083636\n",
      "2\n",
      "ted 0.0140085251723\n",
      "lyin 0.0120067306186\n",
      "cruz 0.0112961084842\n",
      "crooked 0.0111199829624\n",
      "people 0.0104548091413\n",
      "big 0.00926795188428\n",
      "never 0.00740922887143\n",
      "win 0.0072239717528\n",
      "today 0.00720697805574\n",
      "000 0.00687837867746\n",
      "3\n",
      "jobs 0.00774906686874\n",
      "women 0.00774837456434\n",
      "show 0.00622977951919\n",
      "economy 0.00622872493373\n",
      "conference 0.00622827993173\n",
      "press 0.00622826087234\n",
      "strong 0.00622771890997\n",
      "amazing 0.00471064304342\n",
      "bad 0.00471064205221\n",
      "many 0.00471028721595\n",
      "4\n",
      "york 0.0100768264358\n",
      "time 0.00872134433836\n",
      "cruz 0.00796928024084\n",
      "go 0.00712547060068\n",
      "believe 0.0068839757633\n",
      "big 0.0063674787785\n",
      "cnn 0.0062533544799\n",
      "trade 0.00625256750145\n",
      "home 0.00625238301687\n",
      "president 0.00619705454269\n",
      "5\n",
      "wisconsin 0.0174152732011\n",
      "vote 0.00892307482213\n",
      "enjoy 0.00717301920686\n",
      "wiprimary 0.00717271315129\n",
      "run 0.00641226810625\n",
      "people 0.00628016652367\n",
      "bernie 0.00569679257596\n",
      "president 0.00542382979384\n",
      "colorado 0.00542382979384\n",
      "today 0.00542380996844\n",
      "6\n",
      "gop 0.00993656802154\n",
      "time 0.00673603342036\n",
      "soon 0.00651195292952\n",
      "go 0.00633786807089\n",
      "women 0.00560603514516\n",
      "totally 0.00517371421503\n",
      "millions 0.00517371421503\n",
      "raised 0.00517371421213\n",
      "arizona 0.00517370533703\n",
      "times 0.00517306649203\n",
      "7\n",
      "indiana 0.0175615460883\n",
      "crooked 0.0110512611651\n",
      "rally 0.00936075557579\n",
      "isis 0.00935982999302\n",
      "years 0.00782550269992\n",
      "bobby 0.00782131265675\n",
      "many 0.00781946784484\n",
      "america 0.00666720866536\n",
      "big 0.00629337773903\n",
      "four 0.00629147955415\n",
      "8\n",
      "bernie 0.016266705361\n",
      "ted 0.0128618027415\n",
      "crooked 0.0117000876957\n",
      "lyin 0.0115880991155\n",
      "america 0.0103150553688\n",
      "sanders 0.0102710928288\n",
      "women 0.00942023751576\n",
      "cruz 0.00776810636565\n",
      "rigged 0.00649488345447\n",
      "ahead 0.00649469478091\n",
      "9\n",
      "failing 0.0115574654084\n",
      "women 0.00929136980885\n",
      "story 0.00929092905615\n",
      "interviewed 0.00702522002697\n",
      "dishonest 0.00702514346908\n",
      "many 0.00702513611936\n",
      "false 0.00702476944941\n",
      "show 0.00476060854836\n",
      "signed 0.00475989399104\n",
      "nothing 0.00475976589044\n"
     ]
    }
   ],
   "source": [
    "for i in xrange(trump_model.num_topics):\n",
    "    print i\n",
    "    words = []\n",
    "    for tup in trump_model.get_topic_terms(i):\n",
    "        t = ( dictionary[tup[0]],tup[1])\n",
    "        print dictionary[tup[0]] + ' ' + str(tup[1])\n"
   ]
  },
  {
   "cell_type": "code",
   "execution_count": 41,
   "metadata": {
    "collapsed": false
   },
   "outputs": [
    {
     "name": "stdout",
     "output_type": "stream",
     "text": [
      "time\n",
      "president\n",
      "dic[key] = 0.000103703181714\n",
      "(norm_v_t0 * norm_v_t1) = 0.000686959007772\n",
      "dic[key] = 6.01742412447e-05\n",
      "(norm_v_t0 * norm_v_t1) = 0.000686959007772\n"
     ]
    },
    {
     "data": {
      "text/plain": [
       "0.23855487897393687"
      ]
     },
     "execution_count": 41,
     "metadata": {},
     "output_type": "execute_result"
    }
   ],
   "source": [
    "compute_similarity_two_topics(clinton_topics[9], trump_topics[4])"
   ]
  },
  {
   "cell_type": "code",
   "execution_count": null,
   "metadata": {
    "collapsed": true
   },
   "outputs": [],
   "source": []
  }
 ],
 "metadata": {
  "kernelspec": {
   "display_name": "Python 2",
   "language": "python",
   "name": "python2"
  },
  "language_info": {
   "codemirror_mode": {
    "name": "ipython",
    "version": 2
   },
   "file_extension": ".py",
   "mimetype": "text/x-python",
   "name": "python",
   "nbconvert_exporter": "python",
   "pygments_lexer": "ipython2",
   "version": "2.7.6"
  }
 },
 "nbformat": 4,
 "nbformat_minor": 0
}
