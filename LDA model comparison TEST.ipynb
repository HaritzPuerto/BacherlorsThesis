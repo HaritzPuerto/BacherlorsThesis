{
 "cells": [
  {
   "cell_type": "code",
   "execution_count": 1,
   "metadata": {
    "collapsed": false
   },
   "outputs": [
    {
     "name": "stderr",
     "output_type": "stream",
     "text": [
      "/usr/local/lib/python2.7/dist-packages/ipykernel/pylab/config.py:66: DeprecationWarning: metadata {'config': True} was set from the constructor.  Metadata should be set using the .tag() method, e.g., Int().tag(key1='value1', key2='value2')\n",
      "  inline backend.\"\"\"\n",
      "/usr/local/lib/python2.7/dist-packages/ipykernel/pylab/config.py:71: DeprecationWarning: metadata {'config': True} was set from the constructor.  Metadata should be set using the .tag() method, e.g., Int().tag(key1='value1', key2='value2')\n",
      "  'retina', 'jpeg', 'svg', 'pdf'.\"\"\")\n",
      "/usr/local/lib/python2.7/dist-packages/ipykernel/pylab/config.py:85: DeprecationWarning: metadata {'config': True} was set from the constructor.  Metadata should be set using the .tag() method, e.g., Int().tag(key1='value1', key2='value2')\n",
      "  use `figure_formats` instead)\"\"\")\n",
      "/usr/local/lib/python2.7/dist-packages/ipykernel/pylab/config.py:95: DeprecationWarning: metadata {'config': True} was set from the constructor.  Metadata should be set using the .tag() method, e.g., Int().tag(key1='value1', key2='value2')\n",
      "  \"\"\"\n",
      "/usr/local/lib/python2.7/dist-packages/ipykernel/pylab/config.py:114: DeprecationWarning: metadata {'config': True} was set from the constructor.  Metadata should be set using the .tag() method, e.g., Int().tag(key1='value1', key2='value2')\n",
      "  \"\"\")\n",
      "/usr/local/lib/python2.7/dist-packages/ipykernel/pylab/config.py:44: DeprecationWarning: InlineBackend._config_changed is deprecated: use @observe and @unobserve instead.\n",
      "  def _config_changed(self, name, old, new):\n",
      "/usr/local/lib/python2.7/dist-packages/traitlets/traitlets.py:770: DeprecationWarning: A parent of InlineBackend._config_changed has adopted the new @observe(change) API\n",
      "  clsname, change_or_name), DeprecationWarning)\n",
      "/usr/local/lib/python2.7/dist-packages/IPython/core/formatters.py:98: DeprecationWarning: DisplayFormatter._formatters_default is deprecated: use @default decorator instead.\n",
      "  def _formatters_default(self):\n",
      "/usr/local/lib/python2.7/dist-packages/IPython/core/formatters.py:677: DeprecationWarning: PlainTextFormatter._deferred_printers_default is deprecated: use @default decorator instead.\n",
      "  def _deferred_printers_default(self):\n",
      "/usr/local/lib/python2.7/dist-packages/IPython/core/formatters.py:669: DeprecationWarning: PlainTextFormatter._singleton_printers_default is deprecated: use @default decorator instead.\n",
      "  def _singleton_printers_default(self):\n",
      "/usr/local/lib/python2.7/dist-packages/IPython/core/formatters.py:672: DeprecationWarning: PlainTextFormatter._type_printers_default is deprecated: use @default decorator instead.\n",
      "  def _type_printers_default(self):\n",
      "/usr/local/lib/python2.7/dist-packages/IPython/core/formatters.py:672: DeprecationWarning: PlainTextFormatter._type_printers_default is deprecated: use @default decorator instead.\n",
      "  def _type_printers_default(self):\n",
      "/usr/local/lib/python2.7/dist-packages/IPython/core/formatters.py:677: DeprecationWarning: PlainTextFormatter._deferred_printers_default is deprecated: use @default decorator instead.\n",
      "  def _deferred_printers_default(self):\n"
     ]
    }
   ],
   "source": [
    "import logging, gensim, bz2\n",
    "from gensim import corpora, models, similarities, matutils\n",
    "from collections import defaultdict\n",
    "import nltk\n",
    "import pyLDAvis.gensim\n",
    "from nltk.tokenize import RegexpTokenizer\n",
    "from nltk.stem.porter import PorterStemmer\n",
    "import os\n",
    "import codecs\n",
    "from nltk.tokenize import RegexpTokenizer\n",
    "from wordcloud import WordCloud\n",
    "import matplotlib.pyplot as plt\n",
    "%matplotlib inline"
   ]
  },
  {
   "cell_type": "markdown",
   "metadata": {},
   "source": [
    "# Let's retrieve the documents. A document is a set of tweets of a user"
   ]
  },
  {
   "cell_type": "code",
   "execution_count": null,
   "metadata": {
    "collapsed": false
   },
   "outputs": [],
   "source": []
  },
  {
   "cell_type": "code",
   "execution_count": 2,
   "metadata": {
    "collapsed": false
   },
   "outputs": [],
   "source": [
    "setDocs1 = []\n",
    "allDocuments = []\n",
    "for file_name in os.listdir(\"/home/vagrant/shared/Test/1\"):\n",
    "    file = codecs.open(\"/home/vagrant/shared/Test/1/\" + file_name, \"r\", \"utf-8\")\n",
    "    aux = file.read()\n",
    "    setDocs1.append(aux)\n",
    "    allDocuments.append(aux)"
   ]
  },
  {
   "cell_type": "code",
   "execution_count": 3,
   "metadata": {
    "collapsed": false
   },
   "outputs": [],
   "source": [
    "setDocs2 = []\n",
    "for file_name in os.listdir(\"/home/vagrant/shared/Test/2\"):\n",
    "    file = codecs.open(\"/home/vagrant/shared/Test/2/\" + file_name, \"r\", \"utf-8\")\n",
    "    aux = file.read()\n",
    "    setDocs2.append(aux)\n",
    "    allDocuments.append(aux)"
   ]
  },
  {
   "cell_type": "markdown",
   "metadata": {},
   "source": [
    "# Preprocessing"
   ]
  },
  {
   "cell_type": "code",
   "execution_count": 4,
   "metadata": {
    "collapsed": false
   },
   "outputs": [],
   "source": [
    "texts = []\n",
    "tokenizer = RegexpTokenizer(r'\\w+')\n",
    "stoplist_tw=['amp','get','got','hey','hmm','hoo','hop','iep','let','ooo','par',\n",
    "            'pdt','pln','pst','wha','yep','yer','aest','didn','nzdt','via',\n",
    "            'one','com','new','like','great','make','top','awesome','best',\n",
    "            'good','wow','yes','say','yay','would','thanks','thank','going',\n",
    "            'new','use','should','could','best','really','see','want','nice',\n",
    "            'while','know']\n",
    "\n",
    "unigrams = [ w for doc in allDocuments for w in doc if len(w)==1]\n",
    "bigrams  = [ w for doc in allDocuments for w in doc if len(w)==2]\n",
    "\n",
    "en_stop  = set(nltk.corpus.stopwords.words(\"english\") + stoplist_tw\n",
    "                + unigrams + bigrams)\n",
    "p_stemmer = PorterStemmer()\n",
    "# loop through document list\n",
    "for i in allDocuments:\n",
    "    # clean and tokenize document string\n",
    "    raw = i.lower()\n",
    "    tokens = tokenizer.tokenize(raw)\n",
    "\n",
    "    # remove stop words from tokens\n",
    "    stopped_tokens = [i for i in tokens if not i in en_stop]\n",
    "    \n",
    "    # stem tokens\n",
    "    stemmed_tokens = [p_stemmer.stem(i) for i in stopped_tokens]\n",
    "    \n",
    "    # add tokens to list\n",
    "    texts.append(stemmed_tokens)\n",
    "\n",
    "# turn our tokenized documents into a id <-> term dictionary\n",
    "dictionary = corpora.Dictionary(texts)"
   ]
  },
  {
   "cell_type": "code",
   "execution_count": 5,
   "metadata": {
    "collapsed": false
   },
   "outputs": [],
   "source": [
    "texts1 = []\n",
    "tokenizer = RegexpTokenizer(r'\\w+')\n",
    "stoplist_tw=['amp','get','got','hey','hmm','hoo','hop','iep','let','ooo','par',\n",
    "            'pdt','pln','pst','wha','yep','yer','aest','didn','nzdt','via',\n",
    "            'one','com','new','like','great','make','top','awesome','best',\n",
    "            'good','wow','yes','say','yay','would','thanks','thank','going',\n",
    "            'new','use','should','could','best','really','see','want','nice',\n",
    "            'while','know']\n",
    "\n",
    "unigrams = [ w for doc in setDocs1 for w in doc if len(w)==1]\n",
    "bigrams  = [ w for doc in setDocs1 for w in doc if len(w)==2]\n",
    "\n",
    "en_stop  = set(nltk.corpus.stopwords.words(\"english\") + stoplist_tw\n",
    "                + unigrams + bigrams)\n",
    "p_stemmer = PorterStemmer()\n",
    "# loop through document list\n",
    "for i in setDocs1:\n",
    "    # clean and tokenize document string\n",
    "    raw = i.lower()\n",
    "    tokens = tokenizer.tokenize(raw)\n",
    "\n",
    "    # remove stop words from tokens\n",
    "    stopped_tokens = [i for i in tokens if not i in en_stop]\n",
    "    \n",
    "    # stem tokens\n",
    "    stemmed_tokens = [p_stemmer.stem(i) for i in stopped_tokens]\n",
    "    \n",
    "    # add tokens to list\n",
    "    texts1.append(stemmed_tokens)\n",
    "    \n",
    "# convert tokenized documents into a document-term matrix\n",
    "corpus = [dictionary.doc2bow(text) for text in texts1]"
   ]
  },
  {
   "cell_type": "code",
   "execution_count": 6,
   "metadata": {
    "collapsed": false
   },
   "outputs": [],
   "source": [
    "#for i in xrange(len(corpus)):\n",
    "#    for w in corpus[1]:\n",
    "#        print dictionary[w[1]]"
   ]
  },
  {
   "cell_type": "markdown",
   "metadata": {},
   "source": [
    "# LDA Model"
   ]
  },
  {
   "cell_type": "code",
   "execution_count": 7,
   "metadata": {
    "collapsed": false
   },
   "outputs": [],
   "source": [
    "lda_model_1 = gensim.models.ldamodel.LdaModel(corpus, num_topics=3, id2word = dictionary, passes=10, alpha=0.001)"
   ]
  },
  {
   "cell_type": "code",
   "execution_count": 8,
   "metadata": {
    "collapsed": false
   },
   "outputs": [
    {
     "name": "stdout",
     "output_type": "stream",
     "text": [
      "0\n",
      "obama 0.0172253507016\n",
      "act 0.00936756710839\n",
      "state 0.00825441585593\n",
      "american 0.00825251524686\n",
      "presid 0.00824831818925\n",
      "law 0.00711873979099\n",
      "democrat 0.00600082762528\n",
      "unit 0.00599477385968\n",
      "first 0.0048817846139\n",
      "born 0.00487654384757\n",
      "1\n",
      "axiom 0.0186837965099\n",
      "gödel 0.0186812628839\n",
      "set 0.0141132011571\n",
      "system 0.0106747737096\n",
      "theori 0.00952823965557\n",
      "logic 0.00839234062559\n",
      "theorem 0.00839089743425\n",
      "consist 0.00838959787043\n",
      "work 0.00724731786927\n",
      "number 0.00724644985849\n",
      "2\n",
      "alonso 0.0286291951355\n",
      "prix 0.0112315976337\n",
      "grand 0.0112227054121\n",
      "start 0.0101495706537\n",
      "ferrari 0.0101347364276\n",
      "driver 0.00905763816561\n",
      "season 0.00905314475014\n",
      "finish 0.00797228158106\n",
      "2010 0.00688398956097\n",
      "vettel 0.00688171274243\n"
     ]
    }
   ],
   "source": [
    "for i in xrange(3):\n",
    "    print i\n",
    "    for tup in lda_model_1.get_topic_terms(i):\n",
    "        print dictionary[tup[0]] + ' ' + str(tup[1])"
   ]
  },
  {
   "cell_type": "code",
   "execution_count": 9,
   "metadata": {
    "collapsed": false
   },
   "outputs": [],
   "source": [
    "#data1 =  pyLDAvis.gensim.prepare(lda_model_1, corpus, dictionary)\n",
    "#pyLDAvis.display(data1)"
   ]
  },
  {
   "cell_type": "markdown",
   "metadata": {},
   "source": [
    "# Model 2"
   ]
  },
  {
   "cell_type": "code",
   "execution_count": 10,
   "metadata": {
    "collapsed": true
   },
   "outputs": [],
   "source": [
    "texts2 = []\n",
    "tokenizer = RegexpTokenizer(r'\\w+')\n",
    "stoplist_tw=['amp','get','got','hey','hmm','hoo','hop','iep','let','ooo','par',\n",
    "            'pdt','pln','pst','wha','yep','yer','aest','didn','nzdt','via',\n",
    "            'one','com','new','like','great','make','top','awesome','best',\n",
    "            'good','wow','yes','say','yay','would','thanks','thank','going',\n",
    "            'new','use','should','could','best','really','see','want','nice',\n",
    "            'while','know']\n",
    "\n",
    "unigrams = [ w for doc in setDocs2 for w in doc if len(w)==1]\n",
    "bigrams  = [ w for doc in setDocs2 for w in doc if len(w)==2]\n",
    "\n",
    "en_stop  = set(nltk.corpus.stopwords.words(\"english\") + stoplist_tw\n",
    "                + unigrams + bigrams)\n",
    "p_stemmer = PorterStemmer()\n",
    "# loop through document list\n",
    "for i in setDocs2:\n",
    "    # clean and tokenize document string\n",
    "    raw = i.lower()\n",
    "    tokens = tokenizer.tokenize(raw)\n",
    "\n",
    "    # remove stop words from tokens\n",
    "    stopped_tokens = [i for i in tokens if not i in en_stop]\n",
    "    \n",
    "    # stem tokens\n",
    "    stemmed_tokens = [p_stemmer.stem(i) for i in stopped_tokens]\n",
    "    \n",
    "    # add tokens to list\n",
    "    texts2.append(stemmed_tokens)\n",
    "    \n",
    "# convert tokenized documents into a document-term matrix\n",
    "corpus2 = [dictionary.doc2bow(text) for text in texts2]"
   ]
  },
  {
   "cell_type": "code",
   "execution_count": 15,
   "metadata": {
    "collapsed": true
   },
   "outputs": [],
   "source": [
    "lda_model_2 = gensim.models.ldamodel.LdaModel(corpus2, num_topics=3, id2word = dictionary, passes=10, alpha=0.001)"
   ]
  },
  {
   "cell_type": "code",
   "execution_count": 16,
   "metadata": {
    "collapsed": false
   },
   "outputs": [
    {
     "name": "stdout",
     "output_type": "stream",
     "text": [
      "0\n",
      "ture 0.028906541809\n",
      "comput 0.0212119822061\n",
      "machin 0.0179199861036\n",
      "univers 0.00694691800718\n",
      "church 0.00585514441351\n",
      "studi 0.00585395852401\n",
      "first 0.00480011464042\n",
      "war 0.0047826303462\n",
      "paper 0.00475816621168\n",
      "work 0.00475513750556\n",
      "1\n",
      "state 0.0246602692064\n",
      "unit 0.0183162794164\n",
      "world 0.0140969830037\n",
      "war 0.00987446864983\n",
      "countri 0.0088101189549\n",
      "american 0.00880580070183\n",
      "school 0.00669994624198\n",
      "per 0.00563805514584\n",
      "america 0.00563799935628\n",
      "end 0.00563731942571\n",
      "2\n",
      "xiaomi 0.0253972368238\n",
      "smartphon 0.0160256197139\n",
      "compani 0.013916367762\n",
      "first 0.00767845856154\n",
      "store 0.00766451030498\n",
      "2014 0.00766286022813\n",
      "sell 0.00766228872987\n",
      "phone 0.00661439996389\n",
      "2013 0.00661329916354\n",
      "announc 0.00661238784537\n"
     ]
    }
   ],
   "source": [
    "for i in xrange(3):\n",
    "    print i\n",
    "    for tup in lda_model_2.get_topic_terms(i):\n",
    "        print dictionary[tup[0]] + ' ' + str(tup[1])"
   ]
  },
  {
   "cell_type": "code",
   "execution_count": 17,
   "metadata": {
    "collapsed": false
   },
   "outputs": [],
   "source": [
    "#data2 =  pyLDAvis.gensim.prepare(lda_model_2, corpus2, dictionary)\n",
    "#pyLDAvis.display(data2)"
   ]
  },
  {
   "cell_type": "markdown",
   "metadata": {},
   "source": [
    "# Compare models\n"
   ]
  },
  {
   "cell_type": "markdown",
   "metadata": {},
   "source": [
    "# Compare topics using cosine similarity\n"
   ]
  },
  {
   "cell_type": "code",
   "execution_count": 18,
   "metadata": {
    "collapsed": false
   },
   "outputs": [],
   "source": [
    "def compute_similarity_two_topics(list_topic1, list_topic2):\n",
    "    from collections import defaultdict\n",
    "    from math import sqrt\n",
    "    v_t0 = dict(list_topic1) #vector of the first topic\n",
    "    dic = defaultdict(list)\n",
    "    v_t1 = dict(list_topic2) #vector of the second topic\n",
    "    norm_v_t0 = 0\n",
    "    norm_v_t1 = 0\n",
    "    for key in v_t0:  #multiply components of both vectors\n",
    "        norm_v_t0 =  norm_v_t0 + (v_t0[key] *  v_t0[key]) #obtain the norm of the first vector\n",
    "        if key in v_t1:\n",
    "            dic[key] = v_t0[key] * v_t1[key]\n",
    "    norm_v_t0 = sqrt(norm_v_t0) #last step to get the norm of the first vector\n",
    "\n",
    "    for key in v_t1: #obtain the norm of the second vector\n",
    "        norm_v_t1 =  norm_v_t1 + (v_t1[key] *  v_t1[key])\n",
    "    norm_v_t1 = sqrt(norm_v_t1)\n",
    "\n",
    "    similarity = 0\n",
    "    for key in dic:\n",
    "        similarity = similarity + dic[key]/(norm_v_t0 * norm_v_t1)\n",
    "    return similarity"
   ]
  },
  {
   "cell_type": "code",
   "execution_count": 19,
   "metadata": {
    "collapsed": true
   },
   "outputs": [],
   "source": [
    "def compare_models(model1, model2, threshold):\n",
    "    for i in xrange(3):\n",
    "        for j in xrange(3):\n",
    "            similarity = compute_similarity_two_topics(model1.get_topic_terms(i), model2.get_topic_terms(j))\n",
    "            if similarity >= threshold:\n",
    "                print str(i) + ' ' + str(j) + ' ' + str(similarity)\n",
    "                print 'Model 1' \n",
    "                for tup in model1.get_topic_terms(i):\n",
    "                    print dictionary[tup[0]] + ' ' + str(tup[1])\n",
    "                print 'Model 2' \n",
    "                for tup in model2.get_topic_terms(j):\n",
    "                    print dictionary[tup[0]] + ' ' + str(tup[1])"
   ]
  },
  {
   "cell_type": "code",
   "execution_count": 20,
   "metadata": {
    "collapsed": true
   },
   "outputs": [],
   "source": [
    "#Uses weighted arithmetic mean. Show a word clound with the similar topics found\n",
    "#alpha: weight given to similarities between topics greater than threshold\n",
    "#beta: weight given to similarities between topics lower than threshold\n",
    "def compare_models_and_viz(model1, model2, threshold, alpha, beta):\n",
    "    model1_topics = []\n",
    "    for i in xrange(model1.num_topics):\n",
    "        #print i\n",
    "        words = []\n",
    "        for tup in model1.get_topic_terms(i):\n",
    "            t = ( dictionary[tup[0]],tup[1])\n",
    "            words.append(t)\n",
    "            #print dictionary[tup[0]] + ' ' + str(tup[1])\n",
    "        model1_topics.append(words)\n",
    "    \n",
    "    model2_topics = []\n",
    "    for i in xrange(model2.num_topics):\n",
    "        #print i\n",
    "        words = []\n",
    "        for tup in model2.get_topic_terms(i):\n",
    "            t = ( dictionary[tup[0]],tup[1])\n",
    "            words.append(t)\n",
    "            #print dictionary[tup[0]] + ' ' + str(tup[1])\n",
    "        model2_topics.append(words)\n",
    "    \n",
    "    \n",
    "    sim = []\n",
    "    numerator = 0\n",
    "    denominator = 0\n",
    "    for i in xrange(model1.num_topics):\n",
    "        for j in xrange(model2.num_topics):\n",
    "            similarity = compute_similarity_two_topics(model1.get_topic_terms(i), model2.get_topic_terms(j))\n",
    "            if similarity >= threshold:\n",
    "                numerator = numerator + alpha * similarity\n",
    "                denominator = denominator + alpha\n",
    "                sim.append(similarity)\n",
    "                print str(i) + ' ' + str(j) + ' ' + str(similarity)\n",
    "                wordcloud = WordCloud(width=800, height=600, relative_scaling=.8)\\\n",
    "                    .generate_from_frequencies(model1_topics[i])\n",
    "                plt.imshow(wordcloud)\n",
    "                plt.axis(\"off\")\n",
    "                plt.show()\n",
    "                wordcloud = WordCloud(width=800, height=600, relative_scaling=.8)\\\n",
    "                    .generate_from_frequencies(model2_topics[j])\n",
    "                plt.imshow(wordcloud)\n",
    "                plt.axis(\"off\")\n",
    "                plt.show()\n",
    "                #print 'Model 1' \n",
    "                #for tup in model1.get_topic_terms(i):\n",
    "                #    print dictionary[tup[0]] + ' ' + str(tup[1])\n",
    "                #print 'Model 2' \n",
    "                #for tup in model2.get_topic_terms(j):\n",
    "                #    print dictionary[tup[0]] + ' ' + str(tup[1])\n",
    "            else:\n",
    "                numerator = numerator + beta * similarity\n",
    "                denominator = denominator + beta\n",
    "    return numerator/denominator"
   ]
  },
  {
   "cell_type": "code",
   "execution_count": 21,
   "metadata": {
    "collapsed": false
   },
   "outputs": [
    {
     "name": "stdout",
     "output_type": "stream",
     "text": [
      "0 1 0.357615198015\n"
     ]
    },
    {
     "name": "stderr",
     "output_type": "stream",
     "text": [
      "/usr/local/lib/python2.7/dist-packages/IPython/core/formatters.py:92: DeprecationWarning: DisplayFormatter._ipython_display_formatter_default is deprecated: use @default decorator instead.\n",
      "  def _ipython_display_formatter_default(self):\n",
      "/usr/local/lib/python2.7/dist-packages/IPython/core/formatters.py:669: DeprecationWarning: PlainTextFormatter._singleton_printers_default is deprecated: use @default decorator instead.\n",
      "  def _singleton_printers_default(self):\n"
     ]
    },
    {
     "data": {
      "image/png": "[encoded data removed]",
      "text/plain": [
       "<matplotlib.figure.Figure at 0x7f1e6a367050>"
      ]
     },
     "metadata": {},
     "output_type": "display_data"
    },
    {
     "data": {
      "image/png": "[encoded data removed]",
      "text/plain": [
       "<matplotlib.figure.Figure at 0x7f1e6a367310>"
      ]
     },
     "metadata": {},
     "output_type": "display_data"
    },
    {
     "data": {
      "text/plain": [
       "0.35761519801518865"
      ]
     },
     "execution_count": 21,
     "metadata": {},
     "output_type": "execute_result"
    }
   ],
   "source": [
    "compare_models_and_viz(lda_model_1, lda_model_2, 0.1, 1, 0)"
   ]
  },
  {
   "cell_type": "code",
   "execution_count": null,
   "metadata": {
    "collapsed": true
   },
   "outputs": [],
   "source": []
  }
 ],
 "metadata": {
  "kernelspec": {
   "display_name": "Python 2",
   "language": "python",
   "name": "python2"
  },
  "language_info": {
   "codemirror_mode": {
    "name": "ipython",
    "version": 2
   },
   "file_extension": ".py",
   "mimetype": "text/x-python",
   "name": "python",
   "nbconvert_exporter": "python",
   "pygments_lexer": "ipython2",
   "version": "2.7.6"
  }
 },
 "nbformat": 4,
 "nbformat_minor": 0
}
