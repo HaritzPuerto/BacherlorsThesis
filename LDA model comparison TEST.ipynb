{
 "cells": [
  {
   "cell_type": "code",
   "execution_count": 1,
   "metadata": {
    "collapsed": false
   },
   "outputs": [
    {
     "name": "stderr",
     "output_type": "stream",
     "text": [
      "/usr/local/lib/python2.7/dist-packages/ipykernel/pylab/config.py:66: DeprecationWarning: metadata {'config': True} was set from the constructor.  Metadata should be set using the .tag() method, e.g., Int().tag(key1='value1', key2='value2')\n",
      "  inline backend.\"\"\"\n",
      "/usr/local/lib/python2.7/dist-packages/ipykernel/pylab/config.py:71: DeprecationWarning: metadata {'config': True} was set from the constructor.  Metadata should be set using the .tag() method, e.g., Int().tag(key1='value1', key2='value2')\n",
      "  'retina', 'jpeg', 'svg', 'pdf'.\"\"\")\n",
      "/usr/local/lib/python2.7/dist-packages/ipykernel/pylab/config.py:85: DeprecationWarning: metadata {'config': True} was set from the constructor.  Metadata should be set using the .tag() method, e.g., Int().tag(key1='value1', key2='value2')\n",
      "  use `figure_formats` instead)\"\"\")\n",
      "/usr/local/lib/python2.7/dist-packages/ipykernel/pylab/config.py:95: DeprecationWarning: metadata {'config': True} was set from the constructor.  Metadata should be set using the .tag() method, e.g., Int().tag(key1='value1', key2='value2')\n",
      "  \"\"\"\n",
      "/usr/local/lib/python2.7/dist-packages/ipykernel/pylab/config.py:114: DeprecationWarning: metadata {'config': True} was set from the constructor.  Metadata should be set using the .tag() method, e.g., Int().tag(key1='value1', key2='value2')\n",
      "  \"\"\")\n",
      "/usr/local/lib/python2.7/dist-packages/ipykernel/pylab/config.py:44: DeprecationWarning: InlineBackend._config_changed is deprecated: use @observe and @unobserve instead.\n",
      "  def _config_changed(self, name, old, new):\n",
      "/usr/local/lib/python2.7/dist-packages/traitlets/traitlets.py:770: DeprecationWarning: A parent of InlineBackend._config_changed has adopted the new @observe(change) API\n",
      "  clsname, change_or_name), DeprecationWarning)\n",
      "/usr/local/lib/python2.7/dist-packages/IPython/core/formatters.py:98: DeprecationWarning: DisplayFormatter._formatters_default is deprecated: use @default decorator instead.\n",
      "  def _formatters_default(self):\n",
      "/usr/local/lib/python2.7/dist-packages/IPython/core/formatters.py:677: DeprecationWarning: PlainTextFormatter._deferred_printers_default is deprecated: use @default decorator instead.\n",
      "  def _deferred_printers_default(self):\n",
      "/usr/local/lib/python2.7/dist-packages/IPython/core/formatters.py:669: DeprecationWarning: PlainTextFormatter._singleton_printers_default is deprecated: use @default decorator instead.\n",
      "  def _singleton_printers_default(self):\n",
      "/usr/local/lib/python2.7/dist-packages/IPython/core/formatters.py:672: DeprecationWarning: PlainTextFormatter._type_printers_default is deprecated: use @default decorator instead.\n",
      "  def _type_printers_default(self):\n",
      "/usr/local/lib/python2.7/dist-packages/IPython/core/formatters.py:672: DeprecationWarning: PlainTextFormatter._type_printers_default is deprecated: use @default decorator instead.\n",
      "  def _type_printers_default(self):\n",
      "/usr/local/lib/python2.7/dist-packages/IPython/core/formatters.py:677: DeprecationWarning: PlainTextFormatter._deferred_printers_default is deprecated: use @default decorator instead.\n",
      "  def _deferred_printers_default(self):\n"
     ]
    }
   ],
   "source": [
    "import logging, gensim, bz2\n",
    "from gensim import corpora, models, similarities, matutils\n",
    "from collections import defaultdict\n",
    "import nltk\n",
    "import pyLDAvis.gensim\n",
    "from nltk.tokenize import RegexpTokenizer\n",
    "from nltk.stem.porter import PorterStemmer\n",
    "import os\n",
    "import codecs\n",
    "from nltk.tokenize import RegexpTokenizer\n",
    "from wordcloud import WordCloud\n",
    "import matplotlib.pyplot as plt\n",
    "%matplotlib inline"
   ]
  },
  {
   "cell_type": "markdown",
   "metadata": {},
   "source": [
    "# Let's retrieve the documents. A document is a set of tweets of a user"
   ]
  },
  {
   "cell_type": "code",
   "execution_count": null,
   "metadata": {
    "collapsed": false
   },
   "outputs": [],
   "source": []
  },
  {
   "cell_type": "code",
   "execution_count": 2,
   "metadata": {
    "collapsed": false
   },
   "outputs": [],
   "source": [
    "setDocs1 = []\n",
    "allDocuments = []\n",
    "for file_name in os.listdir(\"/home/vagrant/shared/Test/1\"):\n",
    "    file = codecs.open(\"/home/vagrant/shared/Test/1/\" + file_name, \"r\", \"utf-8\")\n",
    "    aux = file.read()\n",
    "    setDocs1.append(aux)\n",
    "    allDocuments.append(aux)"
   ]
  },
  {
   "cell_type": "code",
   "execution_count": 3,
   "metadata": {
    "collapsed": false
   },
   "outputs": [],
   "source": [
    "setDocs2 = []\n",
    "for file_name in os.listdir(\"/home/vagrant/shared/Test/2\"):\n",
    "    file = codecs.open(\"/home/vagrant/shared/Test/2/\" + file_name, \"r\", \"utf-8\")\n",
    "    aux = file.read()\n",
    "    setDocs2.append(aux)\n",
    "    allDocuments.append(aux)"
   ]
  },
  {
   "cell_type": "markdown",
   "metadata": {},
   "source": [
    "# Preprocessing"
   ]
  },
  {
   "cell_type": "code",
   "execution_count": 4,
   "metadata": {
    "collapsed": false
   },
   "outputs": [],
   "source": [
    "texts = []\n",
    "tokenizer = RegexpTokenizer(r'\\w+')\n",
    "stoplist_tw=['amp','get','got','hey','hmm','hoo','hop','iep','let','ooo','par',\n",
    "            'pdt','pln','pst','wha','yep','yer','aest','didn','nzdt','via',\n",
    "            'one','com','new','like','great','make','top','awesome','best',\n",
    "            'good','wow','yes','say','yay','would','thanks','thank','going',\n",
    "            'new','use','should','could','best','really','see','want','nice',\n",
    "            'while','know']\n",
    "\n",
    "unigrams = [ w for doc in allDocuments for w in doc if len(w)==1]\n",
    "bigrams  = [ w for doc in allDocuments for w in doc if len(w)==2]\n",
    "\n",
    "en_stop  = set(nltk.corpus.stopwords.words(\"english\") + stoplist_tw\n",
    "                + unigrams + bigrams)\n",
    "p_stemmer = PorterStemmer()\n",
    "# loop through document list\n",
    "for i in allDocuments:\n",
    "    # clean and tokenize document string\n",
    "    raw = i.lower()\n",
    "    tokens = tokenizer.tokenize(raw)\n",
    "\n",
    "    # remove stop words from tokens\n",
    "    stopped_tokens = [i for i in tokens if not i in en_stop]\n",
    "    \n",
    "    # stem tokens\n",
    "    stemmed_tokens = [p_stemmer.stem(i) for i in stopped_tokens]\n",
    "    \n",
    "    # add tokens to list\n",
    "    texts.append(stemmed_tokens)\n",
    "\n",
    "# turn our tokenized documents into a id <-> term dictionary\n",
    "dictionary = corpora.Dictionary(texts)"
   ]
  },
  {
   "cell_type": "code",
   "execution_count": 5,
   "metadata": {
    "collapsed": false
   },
   "outputs": [],
   "source": [
    "texts1 = []\n",
    "tokenizer = RegexpTokenizer(r'\\w+')\n",
    "stoplist_tw=['amp','get','got','hey','hmm','hoo','hop','iep','let','ooo','par',\n",
    "            'pdt','pln','pst','wha','yep','yer','aest','didn','nzdt','via',\n",
    "            'one','com','new','like','great','make','top','awesome','best',\n",
    "            'good','wow','yes','say','yay','would','thanks','thank','going',\n",
    "            'new','use','should','could','best','really','see','want','nice',\n",
    "            'while','know']\n",
    "\n",
    "unigrams = [ w for doc in setDocs1 for w in doc if len(w)==1]\n",
    "bigrams  = [ w for doc in setDocs1 for w in doc if len(w)==2]\n",
    "\n",
    "en_stop  = set(nltk.corpus.stopwords.words(\"english\") + stoplist_tw\n",
    "                + unigrams + bigrams)\n",
    "p_stemmer = PorterStemmer()\n",
    "# loop through document list\n",
    "for i in setDocs1:\n",
    "    # clean and tokenize document string\n",
    "    raw = i.lower()\n",
    "    tokens = tokenizer.tokenize(raw)\n",
    "\n",
    "    # remove stop words from tokens\n",
    "    stopped_tokens = [i for i in tokens if not i in en_stop]\n",
    "    \n",
    "    # stem tokens\n",
    "    stemmed_tokens = [p_stemmer.stem(i) for i in stopped_tokens]\n",
    "    \n",
    "    # add tokens to list\n",
    "    texts1.append(stemmed_tokens)\n",
    "    \n",
    "# convert tokenized documents into a document-term matrix\n",
    "corpus = [dictionary.doc2bow(text) for text in texts1]"
   ]
  },
  {
   "cell_type": "code",
   "execution_count": 6,
   "metadata": {
    "collapsed": false
   },
   "outputs": [],
   "source": [
    "#for i in xrange(len(corpus)):\n",
    "#    for w in corpus[1]:\n",
    "#        print dictionary[w[1]]"
   ]
  },
  {
   "cell_type": "markdown",
   "metadata": {},
   "source": [
    "# LDA Model"
   ]
  },
  {
   "cell_type": "code",
   "execution_count": 38,
   "metadata": {
    "collapsed": false
   },
   "outputs": [],
   "source": [
    "lda_model_1 = gensim.models.ldamodel.LdaModel(corpus, num_topics=3, id2word = dictionary, passes=10, alpha=0.001)"
   ]
  },
  {
   "cell_type": "code",
   "execution_count": 39,
   "metadata": {
    "collapsed": false
   },
   "outputs": [
    {
     "name": "stdout",
     "output_type": "stream",
     "text": [
      "0\n",
      "obama 0.0172668804158\n",
      "act 0.00936785440312\n",
      "american 0.00826319140254\n",
      "state 0.00825751837109\n",
      "presid 0.00824964538622\n",
      "law 0.00712643591902\n",
      "democrat 0.00600119731087\n",
      "unit 0.0059994238444\n",
      "born 0.00488230922691\n",
      "control 0.00488149697112\n",
      "1\n",
      "alonso 0.0286420870525\n",
      "prix 0.0112341111187\n",
      "grand 0.0112318548875\n",
      "start 0.0101493440495\n",
      "ferrari 0.0101448053212\n",
      "driver 0.00906135424617\n",
      "season 0.00905535756672\n",
      "finish 0.00798054644671\n",
      "vettel 0.00688728615122\n",
      "2010 0.00688669655002\n",
      "2\n",
      "gödel 0.01863449791\n",
      "axiom 0.0186245147504\n",
      "set 0.0140667803452\n",
      "system 0.0106496532024\n",
      "theori 0.00950957607564\n",
      "theorem 0.00836808585436\n",
      "logic 0.00836707825519\n",
      "consist 0.0083646993969\n",
      "number 0.00723600860229\n",
      "natur 0.00722865982665\n"
     ]
    }
   ],
   "source": [
    "for i in xrange(3):\n",
    "    print i\n",
    "    for tup in lda_model_1.get_topic_terms(i):\n",
    "        print dictionary[tup[0]] + ' ' + str(tup[1])"
   ]
  },
  {
   "cell_type": "code",
   "execution_count": 9,
   "metadata": {
    "collapsed": false
   },
   "outputs": [],
   "source": [
    "#data1 =  pyLDAvis.gensim.prepare(lda_model_1, corpus, dictionary)\n",
    "#pyLDAvis.display(data1)"
   ]
  },
  {
   "cell_type": "markdown",
   "metadata": {},
   "source": [
    "# Model 2"
   ]
  },
  {
   "cell_type": "code",
   "execution_count": 10,
   "metadata": {
    "collapsed": true
   },
   "outputs": [],
   "source": [
    "texts2 = []\n",
    "tokenizer = RegexpTokenizer(r'\\w+')\n",
    "stoplist_tw=['amp','get','got','hey','hmm','hoo','hop','iep','let','ooo','par',\n",
    "            'pdt','pln','pst','wha','yep','yer','aest','didn','nzdt','via',\n",
    "            'one','com','new','like','great','make','top','awesome','best',\n",
    "            'good','wow','yes','say','yay','would','thanks','thank','going',\n",
    "            'new','use','should','could','best','really','see','want','nice',\n",
    "            'while','know']\n",
    "\n",
    "unigrams = [ w for doc in setDocs2 for w in doc if len(w)==1]\n",
    "bigrams  = [ w for doc in setDocs2 for w in doc if len(w)==2]\n",
    "\n",
    "en_stop  = set(nltk.corpus.stopwords.words(\"english\") + stoplist_tw\n",
    "                + unigrams + bigrams)\n",
    "p_stemmer = PorterStemmer()\n",
    "# loop through document list\n",
    "for i in setDocs2:\n",
    "    # clean and tokenize document string\n",
    "    raw = i.lower()\n",
    "    tokens = tokenizer.tokenize(raw)\n",
    "\n",
    "    # remove stop words from tokens\n",
    "    stopped_tokens = [i for i in tokens if not i in en_stop]\n",
    "    \n",
    "    # stem tokens\n",
    "    stemmed_tokens = [p_stemmer.stem(i) for i in stopped_tokens]\n",
    "    \n",
    "    # add tokens to list\n",
    "    texts2.append(stemmed_tokens)\n",
    "    \n",
    "# convert tokenized documents into a document-term matrix\n",
    "corpus2 = [dictionary.doc2bow(text) for text in texts2]"
   ]
  },
  {
   "cell_type": "code",
   "execution_count": 42,
   "metadata": {
    "collapsed": true
   },
   "outputs": [],
   "source": [
    "lda_model_2 = gensim.models.ldamodel.LdaModel(corpus2, num_topics=3, id2word = dictionary, passes=10, alpha=0.001)"
   ]
  },
  {
   "cell_type": "code",
   "execution_count": 43,
   "metadata": {
    "collapsed": false
   },
   "outputs": [
    {
     "name": "stdout",
     "output_type": "stream",
     "text": [
      "0\n",
      "xiaomi 0.025422837595\n",
      "smartphon 0.0160342951783\n",
      "compani 0.0139329864803\n",
      "first 0.00768624622668\n",
      "2014 0.00766566901991\n",
      "sell 0.00766386155801\n",
      "store 0.00766244141595\n",
      "phone 0.0066248307989\n",
      "2013 0.00662395392302\n",
      "announc 0.00662167093559\n",
      "1\n",
      "ture 0.028963799206\n",
      "comput 0.0212580930421\n",
      "machin 0.017959924513\n",
      "univers 0.00696794848698\n",
      "church 0.00586594687545\n",
      "studi 0.00586460596688\n",
      "war 0.0047765732381\n",
      "first 0.00477434174571\n",
      "work 0.00476581411254\n",
      "mathemat 0.00476573009055\n",
      "2\n",
      "state 0.0246707833103\n",
      "unit 0.018323806496\n",
      "world 0.01411269878\n",
      "war 0.00987080708436\n",
      "american 0.0088109706725\n",
      "countri 0.00880653450928\n",
      "school 0.00669608091729\n",
      "end 0.00564294586567\n",
      "student 0.00564080228628\n",
      "educ 0.00563839517142\n"
     ]
    }
   ],
   "source": [
    "for i in xrange(3):\n",
    "    print i\n",
    "    for tup in lda_model_2.get_topic_terms(i):\n",
    "        print dictionary[tup[0]] + ' ' + str(tup[1])"
   ]
  },
  {
   "cell_type": "code",
   "execution_count": 13,
   "metadata": {
    "collapsed": false
   },
   "outputs": [],
   "source": [
    "#data2 =  pyLDAvis.gensim.prepare(lda_model_2, corpus2, dictionary)\n",
    "#pyLDAvis.display(data2)"
   ]
  },
  {
   "cell_type": "markdown",
   "metadata": {},
   "source": [
    "# Compare models\n"
   ]
  },
  {
   "cell_type": "markdown",
   "metadata": {},
   "source": [
    "# Compare topics using cosine similarity\n"
   ]
  },
  {
   "cell_type": "code",
   "execution_count": 14,
   "metadata": {
    "collapsed": true
   },
   "outputs": [],
   "source": [
    "def bhattacharyya_distance(list_topic1, list_topic2):\n",
    "    from collections import defaultdict\n",
    "    from math import sqrt\n",
    "    from math import log\n",
    "    v_t0 = dict(list_topic1) #vector of the first topic\n",
    "    v_t1 = dict(list_topic2) #vector of the second topic\n",
    "    similarity = 0\n",
    "    for key in v_t0:  #multiply components of both vectors\n",
    "        if key in v_t1:\n",
    "            #print dictionary[key] + ' ' + str(v_t0[key]) + ', ' + str(v_t1[key])\n",
    "            similarity += sqrt(v_t0[key] * v_t1[key])\n",
    "    #print -log(similarity)\n",
    "    return -log(similarity)"
   ]
  },
  {
   "cell_type": "code",
   "execution_count": 15,
   "metadata": {
    "collapsed": false
   },
   "outputs": [],
   "source": [
    "def compute_similarity_two_topics(list_topic1, list_topic2):\n",
    "    from collections import defaultdict\n",
    "    from math import sqrt\n",
    "    v_t0 = dict(list_topic1) #vector of the first topic\n",
    "    dic = defaultdict(list)\n",
    "    v_t1 = dict(list_topic2) #vector of the second topic\n",
    "    norm_v_t0 = 0\n",
    "    norm_v_t1 = 0\n",
    "    for key in v_t0:  #multiply components of both vectors\n",
    "        norm_v_t0 =  norm_v_t0 + (v_t0[key] *  v_t0[key]) #obtain the norm of the first vector\n",
    "        if key in v_t1:\n",
    "            dic[key] = v_t0[key] * v_t1[key]\n",
    "    norm_v_t0 = sqrt(norm_v_t0) #last step to get the norm of the first vector\n",
    "\n",
    "    for key in v_t1: #obtain the norm of the second vector\n",
    "        norm_v_t1 =  norm_v_t1 + (v_t1[key] *  v_t1[key])\n",
    "    norm_v_t1 = sqrt(norm_v_t1)\n",
    "\n",
    "    similarity = 0\n",
    "    for key in dic:\n",
    "        similarity = similarity + dic[key]/(norm_v_t0 * norm_v_t1)\n",
    "    return similarity"
   ]
  },
  {
   "cell_type": "code",
   "execution_count": 55,
   "metadata": {
    "collapsed": true
   },
   "outputs": [],
   "source": [
    "def compare_models_bhattacharyya(model1, model2, threshold):\n",
    "    import sys\n",
    "    for i in xrange(model1.num_topics):\n",
    "        min_distance = sys.maxint\n",
    "        equivalent_topic_in_model_b = 0\n",
    "        for j in xrange(model2.num_topics):\n",
    "            similarity = bhattacharyya_distance(model1.get_topic_terms(i, topn=len(dictionary)), model2.get_topic_terms(j, topn=len(dictionary)))\n",
    "            if min_distance > similarity:\n",
    "                min_distance = similarity\n",
    "                equivalent_topic_in_model_b = j\n",
    "        if min_distance <= threshold:\n",
    "            print str(i) + ' ' + str(equivalent_topic_in_model_b) + ' ' + str(min_distance)\n",
    "            print 'Model 1' \n",
    "            for tup in model1.get_topic_terms(i):\n",
    "                print dictionary[tup[0]] + ' ' + str(tup[1])\n",
    "            print 'Model 2' \n",
    "            for tup in model2.get_topic_terms(equivalent_topic_in_model_b):\n",
    "                print dictionary[tup[0]] + ' ' + str(tup[1])"
   ]
  },
  {
   "cell_type": "code",
   "execution_count": 56,
   "metadata": {
    "collapsed": true
   },
   "outputs": [],
   "source": [
    "#Uses weighted arithmetic mean. Show a word clound with the similar topics found\n",
    "#alpha: weight given to similarities between topics greater than threshold\n",
    "#beta: weight given to similarities between topics lower than threshold\n",
    "#It returns the distance between model1 and model2\n",
    "def compare_models_and_viz(model1, model2, threshold, alpha, beta):\n",
    "    import sys\n",
    "    model1_topics = []\n",
    "    for i in xrange(model1.num_topics):\n",
    "        #print i\n",
    "        words = []\n",
    "        for tup in model1.get_topic_terms(i):\n",
    "            t = ( dictionary[tup[0]],tup[1])\n",
    "            words.append(t)\n",
    "            #print dictionary[tup[0]] + ' ' + str(tup[1])\n",
    "        model1_topics.append(words)\n",
    "    \n",
    "    model2_topics = []\n",
    "    for i in xrange(model2.num_topics):\n",
    "        #print i\n",
    "        words = []\n",
    "        for tup in model2.get_topic_terms(i):\n",
    "            t = ( dictionary[tup[0]],tup[1])\n",
    "            words.append(t)\n",
    "            #print dictionary[tup[0]] + ' ' + str(tup[1])\n",
    "        model2_topics.append(words)\n",
    "    \n",
    "    \n",
    "    sim = []\n",
    "    numerator = 0\n",
    "    denominator = 0\n",
    "    for i in xrange(model1.num_topics):\n",
    "        min_distance = sys.maxint\n",
    "        equivalent_topic_in_model_b = 0\n",
    "        for j in xrange(model2.num_topics):\n",
    "            similarity = bhattacharyya_distance(model1.get_topic_terms(i, topn=len(dictionary)), model2.get_topic_terms(j, topn=len(dictionary)))\n",
    "            if min_distance > similarity:\n",
    "                min_distance = similarity\n",
    "                equivalent_topic_in_model_b = j\n",
    "        #print min_distance\n",
    "        if min_distance <= threshold:\n",
    "            numerator = numerator + alpha * min_distance\n",
    "            denominator = denominator + alpha\n",
    "            sim.append(min_distance)\n",
    "            print str(i) + ' ' + str(equivalent_topic_in_model_b) + ' ' + str(min_distance)\n",
    "            wordcloud = WordCloud(width=800, height=600, relative_scaling=.8)\\\n",
    "                .generate_from_frequencies(model1_topics[i])\n",
    "            plt.imshow(wordcloud)\n",
    "            plt.axis(\"off\")\n",
    "            plt.show()\n",
    "            wordcloud = WordCloud(width=800, height=600, relative_scaling=.8)\\\n",
    "                .generate_from_frequencies(model2_topics[equivalent_topic_in_model_b])\n",
    "            plt.imshow(wordcloud)\n",
    "            plt.axis(\"off\")\n",
    "            plt.show()\n",
    "            #print 'Model 1' \n",
    "            #for tup in model1.get_topic_terms(i):\n",
    "            #    print dictionary[tup[0]] + ' ' + str(tup[1])\n",
    "            #print 'Model 2' \n",
    "            #for tup in model2.get_topic_terms(j):\n",
    "            #    print dictionary[tup[0]] + ' ' + str(tup[1])\n",
    "        else:\n",
    "            numerator = numerator + beta * min_distance\n",
    "            denominator = denominator + beta\n",
    "    return numerator/denominator"
   ]
  },
  {
   "cell_type": "code",
   "execution_count": 57,
   "metadata": {
    "collapsed": false
   },
   "outputs": [
    {
     "name": "stdout",
     "output_type": "stream",
     "text": [
      "0 2 0.189667189529\n"
     ]
    },
    {
     "data": {
      "image/png": "[encoded data removed]",
      "text/plain": [
       "<matplotlib.figure.Figure at 0x7f5d8d402050>"
      ]
     },
     "metadata": {},
     "output_type": "display_data"
    },
    {
     "data": {
      "image/png": "[encoded data removed]",
      "text/plain": [
       "<matplotlib.figure.Figure at 0x7f5d8da30a50>"
      ]
     },
     "metadata": {},
     "output_type": "display_data"
    },
    {
     "name": "stdout",
     "output_type": "stream",
     "text": [
      "2 1 0.187439003613\n"
     ]
    },
    {
     "data": {
      "image/png": "[encoded data removed]",
      "text/plain": [
       "<matplotlib.figure.Figure at 0x7f5d99aa0390>"
      ]
     },
     "metadata": {},
     "output_type": "display_data"
    },
    {
     "data": {
      "image/png": "[encoded data removed]",
      "text/plain": [
       "<matplotlib.figure.Figure at 0x7f5d8da38c90>"
      ]
     },
     "metadata": {},
     "output_type": "display_data"
    },
    {
     "data": {
      "text/plain": [
       "0.18855309657054503"
      ]
     },
     "execution_count": 57,
     "metadata": {},
     "output_type": "execute_result"
    }
   ],
   "source": [
    "compare_models_and_viz(lda_model_1, lda_model_2, 0.2, 1, 0)"
   ]
  },
  {
   "cell_type": "code",
   "execution_count": 58,
   "metadata": {
    "collapsed": false
   },
   "outputs": [
    {
     "name": "stdout",
     "output_type": "stream",
     "text": [
      "0 0 -1.97619698383e-14\n",
      "Model 1\n",
      "obama 0.0172668804158\n",
      "act 0.00936785440312\n",
      "american 0.00826319140254\n",
      "state 0.00825751837109\n",
      "presid 0.00824964538622\n",
      "law 0.00712643591902\n",
      "democrat 0.00600119731087\n",
      "unit 0.0059994238444\n",
      "born 0.00488230922691\n",
      "control 0.00488149697112\n",
      "Model 2\n",
      "obama 0.0172668804158\n",
      "act 0.00936785440312\n",
      "american 0.00826319140254\n",
      "state 0.00825751837109\n",
      "presid 0.00824964538622\n",
      "law 0.00712643591902\n",
      "democrat 0.00600119731087\n",
      "unit 0.0059994238444\n",
      "born 0.00488230922691\n",
      "control 0.00488149697112\n",
      "1 1 4.32986979604e-15\n",
      "Model 1\n",
      "alonso 0.0286420870525\n",
      "prix 0.0112341111187\n",
      "grand 0.0112318548875\n",
      "start 0.0101493440495\n",
      "ferrari 0.0101448053212\n",
      "driver 0.00906135424617\n",
      "season 0.00905535756672\n",
      "finish 0.00798054644671\n",
      "vettel 0.00688728615122\n",
      "2010 0.00688669655002\n",
      "Model 2\n",
      "alonso 0.0286420870525\n",
      "prix 0.0112341111187\n",
      "grand 0.0112318548875\n",
      "start 0.0101493440495\n",
      "ferrari 0.0101448053212\n",
      "driver 0.00906135424617\n",
      "season 0.00905535756672\n",
      "finish 0.00798054644671\n",
      "vettel 0.00688728615122\n",
      "2010 0.00688669655002\n",
      "2 2 2.12052597703e-14\n",
      "Model 1\n",
      "gödel 0.01863449791\n",
      "axiom 0.0186245147504\n",
      "set 0.0140667803452\n",
      "system 0.0106496532024\n",
      "theori 0.00950957607564\n",
      "theorem 0.00836808585436\n",
      "logic 0.00836707825519\n",
      "consist 0.0083646993969\n",
      "number 0.00723600860229\n",
      "natur 0.00722865982665\n",
      "Model 2\n",
      "gödel 0.01863449791\n",
      "axiom 0.0186245147504\n",
      "set 0.0140667803452\n",
      "system 0.0106496532024\n",
      "theori 0.00950957607564\n",
      "theorem 0.00836808585436\n",
      "logic 0.00836707825519\n",
      "consist 0.0083646993969\n",
      "number 0.00723600860229\n",
      "natur 0.00722865982665\n"
     ]
    }
   ],
   "source": [
    "compare_models_bhattacharyya(lda_model_1, lda_model_1, 1)"
   ]
  },
  {
   "cell_type": "code",
   "execution_count": null,
   "metadata": {
    "collapsed": true
   },
   "outputs": [],
   "source": []
  },
  {
   "cell_type": "code",
   "execution_count": 20,
   "metadata": {
    "collapsed": false
   },
   "outputs": [
    {
     "data": {
      "text/plain": [
       "-3.0198066269803804e-14"
      ]
     },
     "execution_count": 20,
     "metadata": {},
     "output_type": "execute_result"
    }
   ],
   "source": [
    "bhattacharyya_distance(lda_model_1.get_topic_terms(0, topn=len(dictionary)), lda_model_1.get_topic_terms(0, topn=len(dictionary)))"
   ]
  },
  {
   "cell_type": "code",
   "execution_count": 21,
   "metadata": {
    "collapsed": true
   },
   "outputs": [],
   "source": [
    "def k_l_divergence(list_topic1, list_topic2):\n",
    "    from collections import defaultdict\n",
    "    from math import sqrt\n",
    "    from math import log\n",
    "    v_t0 = dict(list_topic1) #vector of the first topic\n",
    "    v_t1 = dict(list_topic2) #vector of the second topic\n",
    "    similarity = 0\n",
    "    for key in v_t0:  #multiply components of both vectors\n",
    "        if key in v_t1:\n",
    "            #print dictionary[key] + ' ' + str(v_t0[key]) + ', ' + str(v_t1[key])\n",
    "            similarity += v_t0[key] * log(v_t0[key] / v_t1[key])\n",
    "    return similarity"
   ]
  },
  {
   "cell_type": "code",
   "execution_count": 22,
   "metadata": {
    "collapsed": false
   },
   "outputs": [],
   "source": [
    "def k_l_similarity(list_topic1, list_topic2):\n",
    "    return (0.5 * \n",
    "            (k_l_divergence(list_topic1, list_topic2) + \n",
    "            k_l_divergence(list_topic2, list_topic1)\n",
    "            ))"
   ]
  },
  {
   "cell_type": "code",
   "execution_count": 23,
   "metadata": {
    "collapsed": false
   },
   "outputs": [],
   "source": [
    "from ford_fulkerson import *"
   ]
  },
  {
   "cell_type": "code",
   "execution_count": 24,
   "metadata": {
    "collapsed": false
   },
   "outputs": [
    {
     "name": "stdout",
     "output_type": "stream",
     "text": [
      "2.0\n"
     ]
    }
   ],
   "source": [
    "g = FlowNetwork()\n",
    "map(g.AddVertex, ['s', 'm1_1', 'm1_2', 'm2_1', 'm2_2', 't'])\n",
    "g.AddEdge('s', 'm1_1', 1)\n",
    "g.AddEdge('s', 'm1_2', 1)\n",
    "g.AddEdge('m1_1', 'm2_1', 1/k_l_divergence(lda_model_1.get_topic_terms(0, topn=len(dictionary)), lda_model_2.get_topic_terms(0, topn=len(dictionary))))\n",
    "g.AddEdge('m1_1', 'm2_2', 1/k_l_divergence(lda_model_1.get_topic_terms(0, topn=len(dictionary)), lda_model_2.get_topic_terms(1, topn=len(dictionary))))\n",
    "g.AddEdge('m1_2', 'm2_1', 1/k_l_divergence(lda_model_1.get_topic_terms(1, topn=len(dictionary)), lda_model_2.get_topic_terms(0, topn=len(dictionary))))\n",
    "g.AddEdge('m1_2', 'm2_2', 1/k_l_divergence(lda_model_1.get_topic_terms(1, topn=len(dictionary)), lda_model_2.get_topic_terms(1,topn=len(dictionary))))\n",
    "g.AddEdge('m2_1', 't', 1)\n",
    "g.AddEdge('m2_2', 't', 1)\n",
    "print g.MaxFlow('s', 't')"
   ]
  },
  {
   "cell_type": "code",
   "execution_count": 25,
   "metadata": {
    "collapsed": false
   },
   "outputs": [
    {
     "name": "stdout",
     "output_type": "stream",
     "text": [
      "0.0\n",
      "1.07746862199\n",
      "1.14511358399\n",
      "0.757640958527\n"
     ]
    }
   ],
   "source": [
    "print k_l_similarity(lda_model_1.get_topic_terms(0, topn=len(dictionary)), lda_model_1.get_topic_terms(0, topn=len(dictionary)))\n",
    "print k_l_similarity(lda_model_1.get_topic_terms(0, topn=len(dictionary)), lda_model_2.get_topic_terms(1, topn=len(dictionary)))\n",
    "print k_l_similarity(lda_model_1.get_topic_terms(1, topn=len(dictionary)), lda_model_2.get_topic_terms(0, topn=len(dictionary)))\n",
    "print k_l_similarity(lda_model_1.get_topic_terms(1, topn=len(dictionary)), lda_model_2.get_topic_terms(1, topn=len(dictionary)))"
   ]
  },
  {
   "cell_type": "code",
   "execution_count": 52,
   "metadata": {
    "collapsed": false
   },
   "outputs": [
    {
     "name": "stdout",
     "output_type": "stream",
     "text": [
      "0.0\n"
     ]
    }
   ],
   "source": [
    "print k_l_divergence(lda_model_1.get_topic_terms(0, topn=len(dictionary)), lda_model_1.get_topic_terms(0, topn=len(dictionary))) #LA DIVERGENCIA ES 0"
   ]
  },
  {
   "cell_type": "code",
   "execution_count": null,
   "metadata": {
    "collapsed": false
   },
   "outputs": [],
   "source": []
  },
  {
   "cell_type": "code",
   "execution_count": 28,
   "metadata": {
    "collapsed": false
   },
   "outputs": [
    {
     "name": "stdout",
     "output_type": "stream",
     "text": [
      "0.111242304012\n",
      "0.111242304012\n"
     ]
    }
   ],
   "source": [
    "from math import sqrt\n",
    "aux = 0\n",
    "aux2 = 0\n",
    "for tup in lda_model_1.get_topic_terms(1):\n",
    "    aux += tup[1]\n",
    "    aux2 += sqrt(tup[1]*tup[1])\n",
    "print aux\n",
    "print aux2"
   ]
  },
  {
   "cell_type": "code",
   "execution_count": 29,
   "metadata": {
    "collapsed": false
   },
   "outputs": [
    {
     "name": "stdout",
     "output_type": "stream",
     "text": [
      "1318\n",
      "1318\n"
     ]
    }
   ],
   "source": [
    "print len(lda_model_1.get_topic_terms(1, topn=len(dictionary)))\n",
    "print len(lda_model_1.show_topic(1, topn=len(dictionary)))"
   ]
  },
  {
   "cell_type": "code",
   "execution_count": 53,
   "metadata": {
    "collapsed": false
   },
   "outputs": [
    {
     "name": "stdout",
     "output_type": "stream",
     "text": [
      "2\n"
     ]
    }
   ],
   "source": [
    "g = FlowNetwork()\n",
    "map(g.AddVertex, ['s', 'm1_1', 'm1_2', 'm2_1', 'm2_2', 't'])\n",
    "g.AddEdge('s', 'm1_1', 1)\n",
    "g.AddEdge('s', 'm1_2', 1)\n",
    "g.AddEdge('m1_1', 'm2_1', 1/bhattacharyya_distance(lda_model_1.get_topic_terms(0, topn=len(dictionary)), lda_model_1.get_topic_terms(0, topn=len(dictionary))))\n",
    "g.AddEdge('m1_1', 'm2_2', 1/bhattacharyya_distance(lda_model_1.get_topic_terms(0, topn=len(dictionary)), lda_model_1.get_topic_terms(1, topn=len(dictionary))))\n",
    "g.AddEdge('m1_2', 'm2_1', 1/bhattacharyya_distance(lda_model_1.get_topic_terms(1, topn=len(dictionary)), lda_model_1.get_topic_terms(0, topn=len(dictionary))))\n",
    "g.AddEdge('m1_2', 'm2_2', 1/bhattacharyya_distance(lda_model_1.get_topic_terms(1, topn=len(dictionary)), lda_model_1.get_topic_terms(1, topn=len(dictionary))))\n",
    "g.AddEdge('m2_1', 't', 1)\n",
    "g.AddEdge('m2_2', 't', 1)\n",
    "print g.MaxFlow('s', 't')"
   ]
  },
  {
   "cell_type": "code",
   "execution_count": 54,
   "metadata": {
    "collapsed": false
   },
   "outputs": [
    {
     "data": {
      "text/plain": [
       "-1.976196983832759e-14"
      ]
     },
     "execution_count": 54,
     "metadata": {},
     "output_type": "execute_result"
    }
   ],
   "source": [
    "bhattacharyya_distance(lda_model_1.get_topic_terms(0, topn=len(dictionary)), lda_model_1.get_topic_terms(0, topn=len(dictionary)))"
   ]
  },
  {
   "cell_type": "code",
   "execution_count": 32,
   "metadata": {
    "collapsed": false
   },
   "outputs": [
    {
     "name": "stdout",
     "output_type": "stream",
     "text": [
      "-3.31147031424e+13\n",
      "3.52627628741\n",
      "3.52627628741\n",
      "1.50119987579e+14\n"
     ]
    }
   ],
   "source": [
    "print 1/bhattacharyya_distance(lda_model_1.get_topic_terms(0, topn=len(dictionary)), lda_model_1.get_topic_terms(0, topn=len(dictionary)))\n",
    "print 1/bhattacharyya_distance(lda_model_1.get_topic_terms(0, topn=len(dictionary)), lda_model_1.get_topic_terms(1, topn=len(dictionary)))\n",
    "print 1/bhattacharyya_distance(lda_model_1.get_topic_terms(1, topn=len(dictionary)), lda_model_1.get_topic_terms(0, topn=len(dictionary)))\n",
    "print 1/bhattacharyya_distance(lda_model_1.get_topic_terms(1, topn=len(dictionary)), lda_model_1.get_topic_terms(1, topn=len(dictionary)))"
   ]
  },
  {
   "cell_type": "code",
   "execution_count": 33,
   "metadata": {
    "collapsed": false
   },
   "outputs": [
    {
     "name": "stdout",
     "output_type": "stream",
     "text": [
      "2\n"
     ]
    }
   ],
   "source": []
  },
  {
   "cell_type": "code",
   "execution_count": null,
   "metadata": {
    "collapsed": true
   },
   "outputs": [],
   "source": []
  }
 ],
 "metadata": {
  "kernelspec": {
   "display_name": "Python 2",
   "language": "python",
   "name": "python2"
  },
  "language_info": {
   "codemirror_mode": {
    "name": "ipython",
    "version": 2
   },
   "file_extension": ".py",
   "mimetype": "text/x-python",
   "name": "python",
   "nbconvert_exporter": "python",
   "pygments_lexer": "ipython2",
   "version": "2.7.6"
  }
 },
 "nbformat": 4,
 "nbformat_minor": 0
}
